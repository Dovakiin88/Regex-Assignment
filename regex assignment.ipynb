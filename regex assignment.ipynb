{
 "cells": [
  {
   "cell_type": "code",
   "execution_count": 1,
   "metadata": {},
   "outputs": [
    {
     "name": "stdout",
     "output_type": "stream",
     "text": [
      "Derek Hawkins / @derekhawkins\n",
      "Sven Osterberg / @sverik\n",
      "Ryan Butz / @ryanbutz\n",
      "Example Exampleson / @example\n",
      "Ripal Pael / @ripalp\n",
      "Darth Vader / @darthvader\n"
     ]
    }
   ],
   "source": [
    "import re\n",
    "\n",
    "with open(\"names.txt\") as f:\n",
    "    for x in f:\n",
    "        twitter = re.search(r\"(?P<twit>@[a-zA-Z0-9]+)(?!.)\", x)\n",
    "        name = re.search(r\"(?P<first>\\w+), (?P<last>\\w+)\", x)\n",
    "        full_name = f\"{name.group('last')} {name.group('first')}\"\n",
    "        if twitter:\n",
    "            print(f\"{full_name} / {twitter.group('twit')}\")"
   ]
  },
  {
   "cell_type": "code",
   "execution_count": null,
   "metadata": {},
   "outputs": [],
   "source": [
    "\"\"\"\n",
    "I here is what i think is going on, i think that first line is saying \n",
    "it will match the previous group with everything on every line except\n",
    "a character that follows the twitter handle\n",
    "\n",
    "in the second line i THINK that its just matching groups that have a name\n",
    "\n",
    "I think that the for loop is forcing the second line to match with the \n",
    "first line and if not it is skipped. \n",
    "\n",
    "\"\"\""
   ]
  }
 ],
 "metadata": {
  "kernelspec": {
   "display_name": "Python 3",
   "language": "python",
   "name": "python3"
  },
  "language_info": {
   "codemirror_mode": {
    "name": "ipython",
    "version": 3
   },
   "file_extension": ".py",
   "mimetype": "text/x-python",
   "name": "python",
   "nbconvert_exporter": "python",
   "pygments_lexer": "ipython3",
   "version": "3.8.5"
  }
 },
 "nbformat": 4,
 "nbformat_minor": 4
}
